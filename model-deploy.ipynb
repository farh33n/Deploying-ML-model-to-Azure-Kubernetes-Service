{
 "cells": [
  {
   "cell_type": "markdown",
   "metadata": {
    "collapsed": true
   },
   "source": [
    "### Accessing workspace"
   ]
  },
  {
   "cell_type": "code",
   "execution_count": null,
   "metadata": {},
   "outputs": [],
   "source": [
    "from azureml.core import Workspace\n",
    "\n",
    "ws = Workspace.get(name=\"your-workspace-name\",\n",
    "                subscription_id='your-subscription-id',\n",
    "                resource_group='your-resource-group')\n",
    "ws"
   ]
  },
  {
   "cell_type": "markdown",
   "metadata": {},
   "source": [
    "### Creating AKS cluster using default configuration\n",
    "you can customize by providing parameters to [provisioning_configuration()](https://docs.microsoft.com/en-us/python/api/azureml-core/azureml.core.compute.akscompute?view=azure-ml-py#attach-configuration-resource-group-none--cluster-name-none--resource-id-none--cluster-purpose-none-) as well "
   ]
  },
  {
   "cell_type": "code",
   "execution_count": null,
   "metadata": {},
   "outputs": [],
   "source": [
    "from azureml.core.compute import AksCompute, ComputeTarget\n",
    "\n",
    "prov_config = AksCompute.provisioning_configuration(vm_size = \"STANDARD_DS3_V2\",\n",
    "                                                       agent_count = 1,\n",
    "                                                       location = \"westus2\",\n",
    "                                                    cluster_purpose = AksCompute.ClusterPurpose.DEV_TEST)\n",
    "\n",
    "aks_name = 'myaks'\n",
    "# Creates the cluster\n",
    "aks_target = ComputeTarget.create(workspace = ws,\n",
    "                                    name = aks_name,\n",
    "                                    provisioning_configuration = prov_config)\n",
    "\n",
    "# Waits for the create process to complete\n",
    "aks_target.wait_for_completion(show_output = True)\n"
   ]
  },
  {
   "cell_type": "markdown",
   "metadata": {},
   "source": [
    "### Attaching existing cluster"
   ]
  },
  {
   "cell_type": "code",
   "execution_count": null,
   "metadata": {},
   "outputs": [],
   "source": [
    "from azureml.core.compute import AksCompute, ComputeTarget\n",
    "\n",
    "resource_group = 'your-resource-group'\n",
    "cluster_name = 'your-aks'\n",
    "                                       )\n",
    "attach_config = AksCompute.attach_configuration(resource_group = resource_group,\n",
    "                                         cluster_name = cluster_name,\n",
    "                                               cluster_purpose = AksCompute.ClusterPurpose.DEV_TEST)\n",
    "aks_target = ComputeTarget.attach(ws, cluster_name, attach_config)"
   ]
  },
  {
   "cell_type": "code",
   "execution_count": null,
   "metadata": {},
   "outputs": [],
   "source": [
    "aks_target"
   ]
  },
  {
   "cell_type": "markdown",
   "metadata": {},
   "source": [
    "### Deploy to AKS"
   ]
  },
  {
   "cell_type": "code",
   "execution_count": null,
   "metadata": {},
   "outputs": [],
   "source": [
    "from azureml.core.environment import Environment\n",
    "from azureml.core.conda_dependencies import CondaDependencies\n",
    "from azureml.core.model import InferenceConfig\n",
    "\n",
    "yourenv = Environment(name=\"your-env\")\n",
    "\n",
    "dependencies = CondaDependencies()\n",
    "dependencies.set_python_version(\"3.6.6\")\n",
    "dependencies.add_pip_package(\"scikit-learn==0.20.3\")\n",
    "dependencies.add_pip_package(\"numpy==1.16.2\")\n",
    "dependencies.add_pip_package(\"pandas==0.23.4\")\n",
    "dependencies.add_pip_package(\"joblib==0.14.1\")\n",
    "\n",
    "myenv.python.conda_dependencies=dependencies\n",
    "\n",
    "inference_config = InferenceConfig(entry_script='score.py', environment=yourenv)\n"
   ]
  },
  {
   "cell_type": "code",
   "execution_count": null,
   "metadata": {},
   "outputs": [],
   "source": [
    "from azureml.core.webservice import AksWebservice, Webservice\n",
    "from azureml.core.model import Model\n",
    "from azureml.core.compute import AksCompute\n",
    "\n",
    "aks_target = AksCompute(ws,cluster_name)\n",
    "aks_target"
   ]
  },
  {
   "cell_type": "code",
   "execution_count": null,
   "metadata": {},
   "outputs": [],
   "source": [
    "deployment_config = AksWebservice.deploy_configuration(cpu_cores = 1, memory_gb = 1)\n",
    "model = Model(ws, name='regression_model')\n",
    "service = Model.deploy(ws, \"your-service\", [model], inference_config, deployment_config, aks_target)\n",
    "service.wait_for_deployment(show_output = True)\n"
   ]
  },
  {
   "cell_type": "code",
   "execution_count": null,
   "metadata": {},
   "outputs": [],
   "source": [
    "print(service.get_logs())\n"
   ]
  }
 ],
 "metadata": {
  "kernelspec": {
   "display_name": "Python 3",
   "language": "python",
   "name": "python3"
  },
  "language_info": {
   "codemirror_mode": {
    "name": "ipython",
    "version": 3
   },
   "file_extension": ".py",
   "mimetype": "text/x-python",
   "name": "python",
   "nbconvert_exporter": "python",
   "pygments_lexer": "ipython3",
   "version": "3.7.3"
  }
 },
 "nbformat": 4,
 "nbformat_minor": 2
}
