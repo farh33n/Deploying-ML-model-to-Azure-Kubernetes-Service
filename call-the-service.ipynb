{
 "cells": [
  {
   "cell_type": "markdown",
   "metadata": {},
   "source": [
    "### Using Scoring URI"
   ]
  },
  {
   "cell_type": "code",
   "execution_count": null,
   "metadata": {},
   "outputs": [],
   "source": [
    "import requests\n",
    "import json\n",
    "import numpy as np\n",
    "\n",
    "# URL for the web service\n",
    "scoring_uri = '<your web service URI>'\n",
    "\n",
    "# If the service is authenticated, set the key or token\n",
    "key = '<your key or token>'\n",
    "\n",
    "# one sample of data to score, so we get one prediction back\n",
    "data = {\"data\":\n",
    "            [ 0.03807591,  0.05068012,  0.06169621,  0.02187235, -0.0442235 ,\n",
    "       -0.03482076, -0.04340085, -0.00259226,  0.01990842, -0.01764613]\n",
    "        }\n",
    "# Convert to JSON string\n",
    "input_data = json.dumps(data)\n",
    "\n",
    "# Set the content type\n",
    "headers = {'Content-Type': 'application/json'}\n",
    "\n",
    "# If authentication is enabled, set the authorization header\n",
    "headers['Authorization'] = f'Bearer {key}'\n",
    "\n",
    "# Make the request and display the response\n",
    "resp = requests.post(scoring_uri, input_data, headers=headers)\n",
    "print(resp.text)"
   ]
  },
  {
   "cell_type": "markdown",
   "metadata": {},
   "source": [
    "### Calling the \"run\" method of score.py"
   ]
  },
  {
   "cell_type": "code",
   "execution_count": null,
   "metadata": {},
   "outputs": [],
   "source": [
    "from azureml.core import Workspace\n",
    "\n",
    "ws = Workspace.get(name=\"your-workspace-name\",\n",
    "                subscription_id='your-subscription-id',\n",
    "                resource_group='your-resource-group')\n",
    "ws"
   ]
  },
  {
   "cell_type": "code",
   "execution_count": null,
   "metadata": {},
   "outputs": [],
   "source": [
    "import json\n",
    "\n",
    "test_sample = json.dumps({'data': [\n",
    "    [ 0.03807591,  0.05068012,  0.06169621,  0.02187235, -0.0442235 ,\n",
    "       -0.03482076, -0.04340085, -0.00259226,  0.01990842, -0.01764613]\n",
    "]})\n",
    "test_sample = bytes(test_sample,encoding = 'utf8')\n",
    "\n",
    "prediction = ws.webservices['your-service'].run(input_data = test_sample)\n",
    "print(prediction)\n"
   ]
  },
  {
   "cell_type": "code",
   "execution_count": null,
   "metadata": {},
   "outputs": [],
   "source": [
    "\n",
    "\n"
   ]
  },
  {
   "cell_type": "code",
   "execution_count": null,
   "metadata": {},
   "outputs": [],
   "source": []
  },
  {
   "cell_type": "code",
   "execution_count": null,
   "metadata": {},
   "outputs": [],
   "source": []
  }
 ],
 "metadata": {
  "kernelspec": {
   "display_name": "Python 3",
   "language": "python",
   "name": "python3"
  },
  "language_info": {
   "codemirror_mode": {
    "name": "ipython",
    "version": 3
   },
   "file_extension": ".py",
   "mimetype": "text/x-python",
   "name": "python",
   "nbconvert_exporter": "python",
   "pygments_lexer": "ipython3",
   "version": "3.7.3"
  }
 },
 "nbformat": 4,
 "nbformat_minor": 2
}
