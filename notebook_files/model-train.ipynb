{
 "cells": [
  {
   "cell_type": "markdown",
   "metadata": {},
   "source": [
    "### Creating a workspace using notebook"
   ]
  },
  {
   "cell_type": "code",
   "execution_count": null,
   "metadata": {},
   "outputs": [],
   "source": [
    "#import worskpace constructor and create a workspace\n",
    "\n",
    "# from azureml.core import Workspace\n",
    "# lqai_ws = Workspace.create(name='workspace-name',\n",
    "#                             subscription_id='your-subscription-id',\n",
    "#                             resource_group='your-resource-group',\n",
    "#                             create_resource_group=False,\n",
    "#                             location='Southeast Asia')"
   ]
  },
  {
   "cell_type": "markdown",
   "metadata": {},
   "source": [
    "### Accessing workspace already created"
   ]
  },
  {
   "cell_type": "code",
   "execution_count": null,
   "metadata": {},
   "outputs": [],
   "source": [
    "from azureml.core import Workspace\n",
    "\n",
    "ws = Workspace.get(name='workspace-name',\n",
    "                subscription_id='your-subscription-id',\n",
    "                resource_group='your-resource-group',)\n",
    "ws"
   ]
  },
  {
   "cell_type": "code",
   "execution_count": null,
   "metadata": {},
   "outputs": [],
   "source": [
    "ws.get_details()"
   ]
  },
  {
   "cell_type": "markdown",
   "metadata": {},
   "source": [
    "### Writing train.py, a script to train model"
   ]
  },
  {
   "cell_type": "code",
   "execution_count": null,
   "metadata": {},
   "outputs": [],
   "source": [
    "model_name = \"reg_model.pkl\"\n",
    "model_dir = \"outputs\""
   ]
  },
  {
   "cell_type": "code",
   "execution_count": null,
   "metadata": {},
   "outputs": [],
   "source": [
    "%%writefile train.py\n",
    "# trains a regression model and saves it\n",
    "\n",
    "import numpy as np\n",
    "import pandas as pd\n",
    "import os\n",
    "import sklearn\n",
    "from sklearn.datasets import load_diabetes\n",
    "from sklearn.model_selection import train_test_split\n",
    "from sklearn.linear_model import LinearRegression\n",
    "import joblib\n",
    "\n",
    "#loads the data set\n",
    "diabetes_dataset = load_diabetes()\n",
    "\n",
    "x_train, x_test, y_train, y_test = train_test_split(diabetes_dataset.data, diabetes_dataset.target)\n",
    "\n",
    "\n",
    "# implements linear regression model\n",
    "reg_model = LinearRegression()\n",
    "reg_model.fit (x_train, y_train)\n",
    "\n",
    "# saves the trained model\n",
    "os.makedirs(\"outputs\", exist_ok=True)\n",
    "model_name = \"reg_model.pkl\"\n",
    "model_dir = \"outputs\"\n",
    "joblib.dump(value=reg_model, filename=model_dir + \"/\" + model_name)"
   ]
  },
  {
   "cell_type": "code",
   "execution_count": null,
   "metadata": {},
   "outputs": [],
   "source": [
    "from azureml.core.compute import AmlCompute\n",
    "\n",
    "# list of all vms that your workspace supports\n",
    "list_vms = AmlCompute.supported_vmsizes(workspace=ws)\n",
    "list_vms"
   ]
  },
  {
   "cell_type": "code",
   "execution_count": null,
   "metadata": {},
   "outputs": [],
   "source": [
    "from azureml.core.runconfig import RunConfiguration\n",
    "\n",
    "compute_config = RunConfiguration()\n",
    "compute_config.target = \"amlcompute\"\n",
    "compute_config.amlcompute.vm_size = \"Standard_DS1_v2\""
   ]
  },
  {
   "cell_type": "code",
   "execution_count": null,
   "metadata": {},
   "outputs": [],
   "source": [
    "from azureml.core.conda_dependencies import CondaDependencies\n",
    "\n",
    "dependencies = CondaDependencies()\n",
    "dependencies.set_python_version(\"3.6.6\")\n",
    "dependencies.add_pip_package(\"scikit-learn==0.20.3\")\n",
    "dependencies.add_pip_package(\"numpy==1.16.2\")\n",
    "dependencies.add_pip_package(\"pandas==0.23.4\")\n",
    "dependencies.add_pip_package(\"joblib==0.14.1\")\n",
    "compute_config.environment.python.conda_dependencies = dependencies\n"
   ]
  },
  {
   "cell_type": "markdown",
   "metadata": {},
   "source": [
    "### Running the experiment"
   ]
  },
  {
   "cell_type": "code",
   "execution_count": null,
   "metadata": {},
   "outputs": [],
   "source": [
    "from azureml.core.experiment import Experiment\n",
    "from azureml.core import ScriptRunConfig\n",
    "\n",
    "script_run_config = ScriptRunConfig(source_directory=\".\",script=\"train.py\", run_config=compute_config)\n",
    "\n",
    "experiment_name = \"reg-exp\"\n",
    "experiment = Experiment(workspace=ws, name=experiment_name)\n",
    "\n",
    "run = experiment.submit(config=script_run_config)\n",
    "\n",
    "run.wait_for_completion(show_output=True)"
   ]
  },
  {
   "cell_type": "code",
   "execution_count": null,
   "metadata": {},
   "outputs": [],
   "source": [
    "run.get_file_names()"
   ]
  },
  {
   "cell_type": "code",
   "execution_count": null,
   "metadata": {},
   "outputs": [],
   "source": [
    "run.download_file(name=model_dir + \"/\" + model_name)"
   ]
  },
  {
   "cell_type": "markdown",
   "metadata": {},
   "source": [
    "### Registering model"
   ]
  },
  {
   "cell_type": "code",
   "execution_count": null,
   "metadata": {},
   "outputs": [],
   "source": [
    "from azureml.core.model import Model\n",
    "\n",
    "Model.register(workspace=ws, model_path=model_name, model_name=\"regression_model\")\n"
   ]
  },
  {
   "cell_type": "code",
   "execution_count": null,
   "metadata": {},
   "outputs": [],
   "source": []
  }
 ],
 "metadata": {
  "kernelspec": {
   "display_name": "Python 3",
   "language": "python",
   "name": "python3"
  },
  "language_info": {
   "codemirror_mode": {
    "name": "ipython",
    "version": 3
   },
   "file_extension": ".py",
   "mimetype": "text/x-python",
   "name": "python",
   "nbconvert_exporter": "python",
   "pygments_lexer": "ipython3",
   "version": "3.7.3"
  }
 },
 "nbformat": 4,
 "nbformat_minor": 2
}
